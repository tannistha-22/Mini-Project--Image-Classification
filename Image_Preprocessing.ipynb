{
  "nbformat": 4,
  "nbformat_minor": 0,
  "metadata": {
    "colab": {
      "name": "Image Preprocessing.ipynb",
      "provenance": [],
      "mount_file_id": "14qdCOyeRMJ-_fjMQczx7mDdU3Ic9BptN",
      "authorship_tag": "ABX9TyMrbCF4Z3zDVEW3EvWLScT+",
      "include_colab_link": true
    },
    "kernelspec": {
      "name": "python3",
      "display_name": "Python 3"
    }
  },
  "cells": [
    {
      "cell_type": "markdown",
      "metadata": {
        "id": "view-in-github",
        "colab_type": "text"
      },
      "source": [
        "<a href=\"https://colab.research.google.com/github/tannistha-22/Mini-Project--Image-Classification/blob/master/Image_Preprocessing.ipynb\" target=\"_parent\"><img src=\"https://colab.research.google.com/assets/colab-badge.svg\" alt=\"Open In Colab\"/></a>"
      ]
    },
    {
      "cell_type": "code",
      "metadata": {
        "id": "5kdC0YKKUj6e",
        "colab_type": "code",
        "colab": {
          "base_uri": "https://localhost:8080/",
          "height": 34
        },
        "outputId": "63f467dc-f77e-4c49-bb9a-2ca81808620f"
      },
      "source": [
        "!pip install bing-image-downloader\n",
        "\n"
      ],
      "execution_count": 16,
      "outputs": [
        {
          "output_type": "stream",
          "text": [
            "Requirement already satisfied: bing-image-downloader in /usr/local/lib/python3.6/dist-packages (1.0.4)\n"
          ],
          "name": "stdout"
        }
      ]
    },
    {
      "cell_type": "code",
      "metadata": {
        "id": "Qk2_7xZCah55",
        "colab_type": "code",
        "colab": {
          "base_uri": "https://localhost:8080/",
          "height": 34
        },
        "outputId": "17c6cda7-e94e-4d8f-b0ba-361a1a016b65"
      },
      "source": [
        "cd /content/drive/My Drive/Data Science_Smartknower\n"
      ],
      "execution_count": 17,
      "outputs": [
        {
          "output_type": "stream",
          "text": [
            "/content/drive/My Drive/Data Science_Smartknower\n"
          ],
          "name": "stdout"
        }
      ]
    },
    {
      "cell_type": "code",
      "metadata": {
        "id": "5H4S78C5ayKd",
        "colab_type": "code",
        "colab": {
          "base_uri": "https://localhost:8080/",
          "height": 34
        },
        "outputId": "50964ad7-00bc-43f8-afbc-eb1b979044a6"
      },
      "source": [
        "!ls"
      ],
      "execution_count": 18,
      "outputs": [
        {
          "output_type": "stream",
          "text": [
            "images\n"
          ],
          "name": "stdout"
        }
      ]
    },
    {
      "cell_type": "code",
      "metadata": {
        "id": "TkKHYuOza9gj",
        "colab_type": "code",
        "colab": {
          "base_uri": "https://localhost:8080/",
          "height": 34
        },
        "outputId": "b6eb1f5e-10df-4c92-a047-8da36e41ebce"
      },
      "source": [
        "!mkdir images"
      ],
      "execution_count": 19,
      "outputs": [
        {
          "output_type": "stream",
          "text": [
            "mkdir: cannot create directory ‘images’: File exists\n"
          ],
          "name": "stdout"
        }
      ]
    },
    {
      "cell_type": "code",
      "metadata": {
        "id": "uetFTLiwbI3j",
        "colab_type": "code",
        "colab": {
          "base_uri": "https://localhost:8080/",
          "height": 34
        },
        "outputId": "26445fca-0150-4345-df86-e94ce8b48343"
      },
      "source": [
        "cd images"
      ],
      "execution_count": 20,
      "outputs": [
        {
          "output_type": "stream",
          "text": [
            "/content/drive/My Drive/Data Science_Smartknower/images\n"
          ],
          "name": "stdout"
        }
      ]
    },
    {
      "cell_type": "code",
      "metadata": {
        "id": "ge3juAlcbU4E",
        "colab_type": "code",
        "colab": {}
      },
      "source": [
        "from bing_image_downloader import downloader"
      ],
      "execution_count": 21,
      "outputs": []
    },
    {
      "cell_type": "code",
      "metadata": {
        "id": "t-BcmZk5bdCM",
        "colab_type": "code",
        "colab": {
          "base_uri": "https://localhost:8080/",
          "height": 302
        },
        "outputId": "67dae739-c2d3-46e0-e3b2-81c4364e452d"
      },
      "source": [
        "downloader.download(\"panda\",limit=3,output_dir='images')"
      ],
      "execution_count": 22,
      "outputs": [
        {
          "output_type": "stream",
          "text": [
            "\n",
            "\n",
            "[!!]Indexing page: 1\n",
            "\n",
            "[%] Indexed 3 Images on Page 1.\n",
            "\n",
            "===============================================\n",
            "\n",
            "[%] Downloading Image #1 from https://i.ytimg.com/vi/pVfiFCE9_Cc/maxresdefault.jpg\n",
            "[%] File Downloaded !\n",
            "\n",
            "[%] Downloading Image #2 from https://nationalzoo.si.edu/sites/default/files/animals/giantpanda-010.jpg\n",
            "[%] File Downloaded !\n",
            "\n",
            "[%] Downloading Image #3 from http://i.ytimg.com/vi/Nr7lspUbwXc/maxresdefault.jpg\n",
            "[%] File Downloaded !\n",
            "\n"
          ],
          "name": "stdout"
        }
      ]
    },
    {
      "cell_type": "code",
      "metadata": {
        "id": "c9gqaaVcdxae",
        "colab_type": "code",
        "colab": {
          "base_uri": "https://localhost:8080/",
          "height": 257
        },
        "outputId": "8ea0a910-fe64-40b0-f1b3-6037f1ae38ea"
      },
      "source": [
        "path= '/content/drive/My Drive/Data Science_Smartknower/images/images/panda/Image_1.jpg'\n",
        "import cv2\n",
        "import matplotlib.pyplot as plt\n",
        "i=cv2.imread(path)\n",
        "i=cv2.cvtColor(i,cv2.COLOR_BGR2RGB)\n",
        "plt.imshow(i)"
      ],
      "execution_count": 23,
      "outputs": [
        {
          "output_type": "execute_result",
          "data": {
            "text/plain": [
              "<matplotlib.image.AxesImage at 0x7f8439624eb8>"
            ]
          },
          "metadata": {
            "tags": []
          },
          "execution_count": 23
        },
        {
          "output_type": "display_data",
          "data": {
            "image/png": "[encoded data removed]",
            "text/plain": [
              "<Figure size 432x288 with 1 Axes>"
            ]
          },
          "metadata": {
            "tags": [],
            "needs_background": "light"
          }
        }
      ]
    },
    {
      "cell_type": "code",
      "metadata": {
        "id": "fwqJWCrxgdVB",
        "colab_type": "code",
        "colab": {
          "base_uri": "https://localhost:8080/",
          "height": 302
        },
        "outputId": "7d2998fc-e4df-48ff-c92f-f424ae2883cc"
      },
      "source": [
        "\n",
        "downloader.download(\"koala bear\",limit=3,output_dir='images')\n"
      ],
      "execution_count": 24,
      "outputs": [
        {
          "output_type": "stream",
          "text": [
            "\n",
            "\n",
            "[!!]Indexing page: 1\n",
            "\n",
            "[%] Indexed 3 Images on Page 1.\n",
            "\n",
            "===============================================\n",
            "\n",
            "[%] Downloading Image #1 from http://4.bp.blogspot.com/-f14XdjoLs3Y/TWH6dNBFHuI/AAAAAAAAABQ/f6HLNWuqEmk/s1600/Koala+baby.jpg\n",
            "[%] File Downloaded !\n",
            "\n",
            "[%] Downloading Image #2 from https://i.ytimg.com/vi/vvmMxju9xNE/maxresdefault.jpg\n",
            "[%] File Downloaded !\n",
            "\n",
            "[%] Downloading Image #3 from http://1.bp.blogspot.com/-j4F5lXwqlTo/Uc5VY8LQ1YI/AAAAAAAADyc/nTB0r0DND-U/s1600/Koala-Animal-Pictures.jpg\n",
            "[%] File Downloaded !\n",
            "\n"
          ],
          "name": "stdout"
        }
      ]
    },
    {
      "cell_type": "code",
      "metadata": {
        "id": "oIwvtrrMnbFA",
        "colab_type": "code",
        "colab": {
          "base_uri": "https://localhost:8080/",
          "height": 658
        },
        "outputId": "151f56a3-5c30-44d3-f62a-c6256b3bcf1d"
      },
      "source": [
        "downloader.download(\"bear\",limit=3,output_dir='images')\n"
      ],
      "execution_count": 25,
      "outputs": [
        {
          "output_type": "stream",
          "text": [
            "\n",
            "\n",
            "[!!]Indexing page: 1\n",
            "\n",
            "[%] Indexed 3 Images on Page 1.\n",
            "\n",
            "===============================================\n",
            "\n",
            "[%] Downloading Image #1 from https://news.nationalgeographic.com/content/dam/news/2016/03/04/grizzly_delisting/01grizzlydelisting.ngsversion.1457364600397.adapt.1900.1.jpg\n",
            "[!] Issue getting: https://news.nationalgeographic.com/content/dam/news/2016/03/04/grizzly_delisting/01grizzlydelisting.ngsversion.1457364600397.adapt.1900.1.jpg\n",
            "[!] Error:: The read operation timed out\n",
            "[%] Downloading Image #1 from http://3.bp.blogspot.com/-S1scRCkI3vY/UHzV2kucsPI/AAAAAAAAA-k/YQ5UzHEm9Ss/s1600/Grizzly+Bear+Wildlife.jpg\n",
            "[%] File Downloaded !\n",
            "\n",
            "[%] Downloading Image #2 from http://2.bp.blogspot.com/-zm_ns0W_KGA/T_rQmBVsddI/AAAAAAAAAPs/Q28d-ZwoPjY/s1600/The+brown+bear+wallpaper+bear.jpg\n",
            "[%] File Downloaded !\n",
            "\n",
            "\n",
            "\n",
            "[!!]Indexing page: 2\n",
            "\n",
            "[%] Indexed 35 Images on Page 2.\n",
            "\n",
            "===============================================\n",
            "\n",
            "[%] Downloading Image #3 from https://news.nationalgeographic.com/content/dam/news/2016/03/04/grizzly_delisting/01grizzlydelisting.ngsversion.1457364600397.adapt.1900.1.jpg\n",
            "[!] Issue getting: https://news.nationalgeographic.com/content/dam/news/2016/03/04/grizzly_delisting/01grizzlydelisting.ngsversion.1457364600397.adapt.1900.1.jpg\n",
            "[!] Error:: The read operation timed out\n",
            "[%] Downloading Image #3 from http://3.bp.blogspot.com/-S1scRCkI3vY/UHzV2kucsPI/AAAAAAAAA-k/YQ5UzHEm9Ss/s1600/Grizzly+Bear+Wildlife.jpg\n",
            "[%] File Downloaded !\n",
            "\n",
            "\n",
            "\n",
            "[%] Done. Downloaded 3 images.\n",
            "\n",
            "===============================================\n",
            "\n"
          ],
          "name": "stdout"
        }
      ]
    },
    {
      "cell_type": "code",
      "metadata": {
        "id": "razAWJ8hZJJ3",
        "colab_type": "code",
        "colab": {
          "base_uri": "https://localhost:8080/",
          "height": 302
        },
        "outputId": "2bd78b37-7b79-4602-f61f-55d938cdd7d3"
      },
      "source": [
        "downloader.download(\"sloth bear\",limit=3,output_dir='images')\n"
      ],
      "execution_count": 26,
      "outputs": [
        {
          "output_type": "stream",
          "text": [
            "\n",
            "\n",
            "[!!]Indexing page: 1\n",
            "\n",
            "[%] Indexed 3 Images on Page 1.\n",
            "\n",
            "===============================================\n",
            "\n",
            "[%] Downloading Image #1 from https://nationalzoo.si.edu/sites/default/files/animals/slothbear-002.jpg\n",
            "[%] File Downloaded !\n",
            "\n",
            "[%] Downloading Image #2 from https://upload.wikimedia.org/wikipedia/commons/6/6c/Sloth_Bear_Washington_DC.JPG\n",
            "[%] File Downloaded !\n",
            "\n",
            "[%] Downloading Image #3 from https://nationalzoo.si.edu/sites/default/files/animals/slothbear-003.jpg\n",
            "[%] File Downloaded !\n",
            "\n"
          ],
          "name": "stdout"
        }
      ]
    },
    {
      "cell_type": "code",
      "metadata": {
        "id": "4Mf46HKWZTih",
        "colab_type": "code",
        "colab": {
          "base_uri": "https://localhost:8080/",
          "height": 302
        },
        "outputId": "848ba2fb-e078-4d21-e807-e9f3eb904b93"
      },
      "source": [
        "downloader.download(\"polar bear\",limit=3,output_dir='images')\n"
      ],
      "execution_count": 27,
      "outputs": [
        {
          "output_type": "stream",
          "text": [
            "\n",
            "\n",
            "[!!]Indexing page: 1\n",
            "\n",
            "[%] Indexed 3 Images on Page 1.\n",
            "\n",
            "===============================================\n",
            "\n",
            "[%] Downloading Image #1 from https://www.sciencemag.org/sites/default/files/styles/article_main_large/public/polar%20bear.jpg?itok=4Q6FMaNA\n",
            "[%] File Downloaded !\n",
            "\n",
            "[%] Downloading Image #2 from https://4.bp.blogspot.com/-9C1cGbwqv7M/V2FMSev9IGI/AAAAAAACPyA/Hb4B0P-C1D0GXqXjobNxCBwi-4cpVxOlACLcB/s1600/2.jpg\n",
            "[%] File Downloaded !\n",
            "\n",
            "[%] Downloading Image #3 from http://cbsnews1.cbsistatic.com/hub/i/2015/02/27/613901ea-b961-4f7f-b9fd-cd563f2b8413/polar-bears24istock.jpg\n",
            "[%] File Downloaded !\n",
            "\n"
          ],
          "name": "stdout"
        }
      ]
    },
    {
      "cell_type": "code",
      "metadata": {
        "id": "OHT1-WBuZWXT",
        "colab_type": "code",
        "colab": {
          "base_uri": "https://localhost:8080/",
          "height": 67
        },
        "outputId": "cb5a5cca-8441-4ec5-f8fd-0df8fc02dfc8"
      },
      "source": [
        "import os\n",
        "import cv2\n",
        "path='/content/images/images/panda'\n",
        "for filename in os.listdir(path):\n",
        "  i=cv2.imread(os.path.join(path,filename))\n",
        "  print(i.shape)\n"
      ],
      "execution_count": 28,
      "outputs": [
        {
          "output_type": "stream",
          "text": [
            "(720, 1280, 3)\n",
            "(840, 1400, 3)\n",
            "(720, 1280, 3)\n"
          ],
          "name": "stdout"
        }
      ]
    },
    {
      "cell_type": "code",
      "metadata": {
        "id": "a1fVKMkufle_",
        "colab_type": "code",
        "colab": {}
      },
      "source": [
        "import os\n",
        "from skimage.io import imread\n",
        "from skimage.transform import resize  "
      ],
      "execution_count": 29,
      "outputs": []
    },
    {
      "cell_type": "code",
      "metadata": {
        "id": "pnVC_fnkkTIH",
        "colab_type": "code",
        "colab": {
          "base_uri": "https://localhost:8080/",
          "height": 67
        },
        "outputId": "ad8f9fb7-0f5b-4bcd-ee3a-1d8ac52b59c4"
      },
      "source": [
        "target=[]\n",
        "flat_data=[]\n",
        "images=[]\n",
        "\n",
        "path='/content/images/images/'\n",
        "for dirpath, dirnames, filenames in os.walk(path):\n",
        "  for filename in filenames:\n",
        "    category = dirpath.split('/')[-1]\n",
        "    target.append(category)\n",
        "    img = imread(f'{path}{category}/{filename}')\n",
        "    img_resized = resize(img,(50,50))\n",
        "    flat_data.append(img_resized.flatten())\n",
        "    images.append(img_resized)\n",
        "import numpy as np\n",
        "flat_data= np.array(flat_data)\n",
        "target = np.array(target)\n",
        "images = np.array(images)\n",
        " \n",
        "print(flat_data.shape)\n",
        "print(target.shape)\n",
        "print(images.shape) \n",
        "  "
      ],
      "execution_count": 30,
      "outputs": [
        {
          "output_type": "stream",
          "text": [
            "(3, 7500)\n",
            "(3,)\n",
            "(3, 50, 50, 3)\n"
          ],
          "name": "stdout"
        }
      ]
    },
    {
      "cell_type": "code",
      "metadata": {
        "id": "uhqfk8WclIbw",
        "colab_type": "code",
        "colab": {}
      },
      "source": [
        "import pandas as pd\n",
        "df = pd.DataFrame(flat_data)\n",
        "df['Target'] = target"
      ],
      "execution_count": 31,
      "outputs": []
    },
    {
      "cell_type": "code",
      "metadata": {
        "id": "7icJv7hzxoX6",
        "colab_type": "code",
        "colab": {
          "base_uri": "https://localhost:8080/",
          "height": 185
        },
        "outputId": "f7cc92ab-0d57-4b32-adc1-c6c91000d64c"
      },
      "source": [
        "df.head()"
      ],
      "execution_count": 32,
      "outputs": [
        {
          "output_type": "execute_result",
          "data": {
            "text/html": [
              "<div>\n",
              "<style scoped>\n",
              "    .dataframe tbody tr th:only-of-type {\n",
              "        vertical-align: middle;\n",
              "    }\n",
              "\n",
              "    .dataframe tbody tr th {\n",
              "        vertical-align: top;\n",
              "    }\n",
              "\n",
              "    .dataframe thead th {\n",
              "        text-align: right;\n",
              "    }\n",
              "</style>\n",
              "<table border=\"1\" class=\"dataframe\">\n",
              "  <thead>\n",
              "    <tr style=\"text-align: right;\">\n",
              "      <th></th>\n",
              "      <th>0</th>\n",
              "      <th>1</th>\n",
              "      <th>2</th>\n",
              "      <th>3</th>\n",
              "      <th>4</th>\n",
              "      <th>5</th>\n",
              "      <th>6</th>\n",
              "      <th>7</th>\n",
              "      <th>8</th>\n",
              "      <th>9</th>\n",
              "      <th>10</th>\n",
              "      <th>11</th>\n",
              "      <th>12</th>\n",
              "      <th>13</th>\n",
              "      <th>14</th>\n",
              "      <th>15</th>\n",
              "      <th>16</th>\n",
              "      <th>17</th>\n",
              "      <th>18</th>\n",
              "      <th>19</th>\n",
              "      <th>20</th>\n",
              "      <th>21</th>\n",
              "      <th>22</th>\n",
              "      <th>23</th>\n",
              "      <th>24</th>\n",
              "      <th>25</th>\n",
              "      <th>26</th>\n",
              "      <th>27</th>\n",
              "      <th>28</th>\n",
              "      <th>29</th>\n",
              "      <th>30</th>\n",
              "      <th>31</th>\n",
              "      <th>32</th>\n",
              "      <th>33</th>\n",
              "      <th>34</th>\n",
              "      <th>35</th>\n",
              "      <th>36</th>\n",
              "      <th>37</th>\n",
              "      <th>38</th>\n",
              "      <th>39</th>\n",
              "      <th>...</th>\n",
              "      <th>7461</th>\n",
              "      <th>7462</th>\n",
              "      <th>7463</th>\n",
              "      <th>7464</th>\n",
              "      <th>7465</th>\n",
              "      <th>7466</th>\n",
              "      <th>7467</th>\n",
              "      <th>7468</th>\n",
              "      <th>7469</th>\n",
              "      <th>7470</th>\n",
              "      <th>7471</th>\n",
              "      <th>7472</th>\n",
              "      <th>7473</th>\n",
              "      <th>7474</th>\n",
              "      <th>7475</th>\n",
              "      <th>7476</th>\n",
              "      <th>7477</th>\n",
              "      <th>7478</th>\n",
              "      <th>7479</th>\n",
              "      <th>7480</th>\n",
              "      <th>7481</th>\n",
              "      <th>7482</th>\n",
              "      <th>7483</th>\n",
              "      <th>7484</th>\n",
              "      <th>7485</th>\n",
              "      <th>7486</th>\n",
              "      <th>7487</th>\n",
              "      <th>7488</th>\n",
              "      <th>7489</th>\n",
              "      <th>7490</th>\n",
              "      <th>7491</th>\n",
              "      <th>7492</th>\n",
              "      <th>7493</th>\n",
              "      <th>7494</th>\n",
              "      <th>7495</th>\n",
              "      <th>7496</th>\n",
              "      <th>7497</th>\n",
              "      <th>7498</th>\n",
              "      <th>7499</th>\n",
              "      <th>Target</th>\n",
              "    </tr>\n",
              "  </thead>\n",
              "  <tbody>\n",
              "    <tr>\n",
              "      <th>0</th>\n",
              "      <td>0.325882</td>\n",
              "      <td>0.297255</td>\n",
              "      <td>0.293333</td>\n",
              "      <td>0.086667</td>\n",
              "      <td>0.078824</td>\n",
              "      <td>0.086941</td>\n",
              "      <td>0.029412</td>\n",
              "      <td>0.027451</td>\n",
              "      <td>0.035294</td>\n",
              "      <td>0.020667</td>\n",
              "      <td>0.020667</td>\n",
              "      <td>0.023529</td>\n",
              "      <td>0.023529</td>\n",
              "      <td>0.023529</td>\n",
              "      <td>0.027451</td>\n",
              "      <td>0.031373</td>\n",
              "      <td>0.031373</td>\n",
              "      <td>0.036118</td>\n",
              "      <td>0.031373</td>\n",
              "      <td>0.031373</td>\n",
              "      <td>0.039216</td>\n",
              "      <td>0.043137</td>\n",
              "      <td>0.041765</td>\n",
              "      <td>0.050980</td>\n",
              "      <td>0.063137</td>\n",
              "      <td>0.066667</td>\n",
              "      <td>0.077373</td>\n",
              "      <td>0.249373</td>\n",
              "      <td>0.265882</td>\n",
              "      <td>0.290235</td>\n",
              "      <td>0.661176</td>\n",
              "      <td>0.697294</td>\n",
              "      <td>0.720824</td>\n",
              "      <td>0.881961</td>\n",
              "      <td>0.897647</td>\n",
              "      <td>0.916196</td>\n",
              "      <td>0.909804</td>\n",
              "      <td>0.925490</td>\n",
              "      <td>0.937255</td>\n",
              "      <td>0.917647</td>\n",
              "      <td>...</td>\n",
              "      <td>0.027451</td>\n",
              "      <td>0.027451</td>\n",
              "      <td>0.029412</td>\n",
              "      <td>0.031490</td>\n",
              "      <td>0.027451</td>\n",
              "      <td>0.031373</td>\n",
              "      <td>0.043961</td>\n",
              "      <td>0.038039</td>\n",
              "      <td>0.043137</td>\n",
              "      <td>0.054902</td>\n",
              "      <td>0.048235</td>\n",
              "      <td>0.056902</td>\n",
              "      <td>0.058941</td>\n",
              "      <td>0.056078</td>\n",
              "      <td>0.066667</td>\n",
              "      <td>0.031373</td>\n",
              "      <td>0.031373</td>\n",
              "      <td>0.039216</td>\n",
              "      <td>0.027451</td>\n",
              "      <td>0.027451</td>\n",
              "      <td>0.035294</td>\n",
              "      <td>0.035294</td>\n",
              "      <td>0.035294</td>\n",
              "      <td>0.043137</td>\n",
              "      <td>0.040392</td>\n",
              "      <td>0.043137</td>\n",
              "      <td>0.054902</td>\n",
              "      <td>0.038039</td>\n",
              "      <td>0.038039</td>\n",
              "      <td>0.047059</td>\n",
              "      <td>0.043137</td>\n",
              "      <td>0.039216</td>\n",
              "      <td>0.050980</td>\n",
              "      <td>0.057765</td>\n",
              "      <td>0.050980</td>\n",
              "      <td>0.054902</td>\n",
              "      <td>0.050980</td>\n",
              "      <td>0.043961</td>\n",
              "      <td>0.042314</td>\n",
              "      <td>panda</td>\n",
              "    </tr>\n",
              "    <tr>\n",
              "      <th>1</th>\n",
              "      <td>0.355098</td>\n",
              "      <td>0.301961</td>\n",
              "      <td>0.257059</td>\n",
              "      <td>0.374510</td>\n",
              "      <td>0.319608</td>\n",
              "      <td>0.278431</td>\n",
              "      <td>0.388235</td>\n",
              "      <td>0.335098</td>\n",
              "      <td>0.290196</td>\n",
              "      <td>0.427451</td>\n",
              "      <td>0.399804</td>\n",
              "      <td>0.346863</td>\n",
              "      <td>0.347059</td>\n",
              "      <td>0.346667</td>\n",
              "      <td>0.303725</td>\n",
              "      <td>0.307647</td>\n",
              "      <td>0.307843</td>\n",
              "      <td>0.239216</td>\n",
              "      <td>0.362941</td>\n",
              "      <td>0.372745</td>\n",
              "      <td>0.267059</td>\n",
              "      <td>0.386667</td>\n",
              "      <td>0.406275</td>\n",
              "      <td>0.274706</td>\n",
              "      <td>0.447255</td>\n",
              "      <td>0.482549</td>\n",
              "      <td>0.321765</td>\n",
              "      <td>0.570196</td>\n",
              "      <td>0.591765</td>\n",
              "      <td>0.407451</td>\n",
              "      <td>0.472549</td>\n",
              "      <td>0.450980</td>\n",
              "      <td>0.370588</td>\n",
              "      <td>0.443137</td>\n",
              "      <td>0.403922</td>\n",
              "      <td>0.364706</td>\n",
              "      <td>0.492549</td>\n",
              "      <td>0.452941</td>\n",
              "      <td>0.417647</td>\n",
              "      <td>0.500000</td>\n",
              "      <td>...</td>\n",
              "      <td>0.277451</td>\n",
              "      <td>0.260000</td>\n",
              "      <td>0.248235</td>\n",
              "      <td>0.270588</td>\n",
              "      <td>0.248824</td>\n",
              "      <td>0.229216</td>\n",
              "      <td>0.317647</td>\n",
              "      <td>0.294118</td>\n",
              "      <td>0.270784</td>\n",
              "      <td>0.313725</td>\n",
              "      <td>0.294118</td>\n",
              "      <td>0.274510</td>\n",
              "      <td>0.325490</td>\n",
              "      <td>0.301961</td>\n",
              "      <td>0.282353</td>\n",
              "      <td>0.327647</td>\n",
              "      <td>0.301961</td>\n",
              "      <td>0.282353</td>\n",
              "      <td>0.270588</td>\n",
              "      <td>0.247059</td>\n",
              "      <td>0.229412</td>\n",
              "      <td>0.386275</td>\n",
              "      <td>0.366863</td>\n",
              "      <td>0.343137</td>\n",
              "      <td>0.829412</td>\n",
              "      <td>0.815686</td>\n",
              "      <td>0.790196</td>\n",
              "      <td>0.919608</td>\n",
              "      <td>0.905882</td>\n",
              "      <td>0.874510</td>\n",
              "      <td>0.929412</td>\n",
              "      <td>0.913725</td>\n",
              "      <td>0.888431</td>\n",
              "      <td>0.939216</td>\n",
              "      <td>0.933137</td>\n",
              "      <td>0.911765</td>\n",
              "      <td>0.964706</td>\n",
              "      <td>0.960784</td>\n",
              "      <td>0.945098</td>\n",
              "      <td>panda</td>\n",
              "    </tr>\n",
              "    <tr>\n",
              "      <th>2</th>\n",
              "      <td>0.000000</td>\n",
              "      <td>0.000000</td>\n",
              "      <td>0.000000</td>\n",
              "      <td>0.007843</td>\n",
              "      <td>0.011765</td>\n",
              "      <td>0.007843</td>\n",
              "      <td>0.258824</td>\n",
              "      <td>0.365294</td>\n",
              "      <td>0.252157</td>\n",
              "      <td>0.521569</td>\n",
              "      <td>0.692941</td>\n",
              "      <td>0.537529</td>\n",
              "      <td>0.384667</td>\n",
              "      <td>0.580392</td>\n",
              "      <td>0.395333</td>\n",
              "      <td>0.289020</td>\n",
              "      <td>0.488196</td>\n",
              "      <td>0.285098</td>\n",
              "      <td>0.375294</td>\n",
              "      <td>0.584314</td>\n",
              "      <td>0.375294</td>\n",
              "      <td>0.370000</td>\n",
              "      <td>0.581176</td>\n",
              "      <td>0.342549</td>\n",
              "      <td>0.498314</td>\n",
              "      <td>0.702235</td>\n",
              "      <td>0.494510</td>\n",
              "      <td>0.524667</td>\n",
              "      <td>0.717647</td>\n",
              "      <td>0.547843</td>\n",
              "      <td>0.415686</td>\n",
              "      <td>0.590157</td>\n",
              "      <td>0.414510</td>\n",
              "      <td>0.398039</td>\n",
              "      <td>0.601843</td>\n",
              "      <td>0.360275</td>\n",
              "      <td>0.540392</td>\n",
              "      <td>0.731373</td>\n",
              "      <td>0.552157</td>\n",
              "      <td>0.471255</td>\n",
              "      <td>...</td>\n",
              "      <td>0.089216</td>\n",
              "      <td>0.085882</td>\n",
              "      <td>0.080000</td>\n",
              "      <td>0.072941</td>\n",
              "      <td>0.067843</td>\n",
              "      <td>0.067961</td>\n",
              "      <td>0.054902</td>\n",
              "      <td>0.030549</td>\n",
              "      <td>0.058824</td>\n",
              "      <td>0.245451</td>\n",
              "      <td>0.195294</td>\n",
              "      <td>0.229412</td>\n",
              "      <td>0.469412</td>\n",
              "      <td>0.472941</td>\n",
              "      <td>0.434118</td>\n",
              "      <td>0.612353</td>\n",
              "      <td>0.654118</td>\n",
              "      <td>0.595294</td>\n",
              "      <td>0.658824</td>\n",
              "      <td>0.698039</td>\n",
              "      <td>0.654902</td>\n",
              "      <td>0.479608</td>\n",
              "      <td>0.563882</td>\n",
              "      <td>0.487451</td>\n",
              "      <td>0.440784</td>\n",
              "      <td>0.589804</td>\n",
              "      <td>0.460392</td>\n",
              "      <td>0.439608</td>\n",
              "      <td>0.632824</td>\n",
              "      <td>0.381176</td>\n",
              "      <td>0.199412</td>\n",
              "      <td>0.319608</td>\n",
              "      <td>0.154902</td>\n",
              "      <td>0.003922</td>\n",
              "      <td>0.011373</td>\n",
              "      <td>0.003922</td>\n",
              "      <td>0.000000</td>\n",
              "      <td>0.000000</td>\n",
              "      <td>0.000000</td>\n",
              "      <td>panda</td>\n",
              "    </tr>\n",
              "  </tbody>\n",
              "</table>\n",
              "<p>3 rows × 7501 columns</p>\n",
              "</div>"
            ],
            "text/plain": [
              "          0         1         2         3  ...      7497      7498      7499  Target\n",
              "0  0.325882  0.297255  0.293333  0.086667  ...  0.050980  0.043961  0.042314   panda\n",
              "1  0.355098  0.301961  0.257059  0.374510  ...  0.964706  0.960784  0.945098   panda\n",
              "2  0.000000  0.000000  0.000000  0.007843  ...  0.000000  0.000000  0.000000   panda\n",
              "\n",
              "[3 rows x 7501 columns]"
            ]
          },
          "metadata": {
            "tags": []
          },
          "execution_count": 32
        }
      ]
    },
    {
      "cell_type": "code",
      "metadata": {
        "id": "dLhuunya4LoC",
        "colab_type": "code",
        "colab": {}
      },
      "source": [
        ""
      ],
      "execution_count": 32,
      "outputs": []
    }
  ]
}